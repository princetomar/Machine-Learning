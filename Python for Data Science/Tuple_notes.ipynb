{
 "cells": [
  {
   "cell_type": "markdown",
   "metadata": {
    "id": "zXCf8ZJidWEg"
   },
   "source": [
    "# Tuples"
   ]
  },
  {
   "cell_type": "markdown",
   "metadata": {
    "id": "61LZrHEHdWEj"
   },
   "source": [
    "-> A tuple is similar to list\n",
    "\n",
    "-> The diffence between the two is that we can't change the elements of tuple once it is assigned whereas in the list, elements can be changed"
   ]
  },
  {
   "cell_type": "markdown",
   "metadata": {
    "id": "CXA73bzGdWEk"
   },
   "source": [
    "# Tuple creation"
   ]
  },
  {
   "cell_type": "code",
   "execution_count": null,
   "metadata": {
    "id": "lw56RmAIdWEk",
    "outputId": "c319b581-9f81-4b88-f654-e81671fd743c"
   },
   "outputs": [
    {
     "name": "stdout",
     "output_type": "stream",
     "text": [
      "(1, 2, 3)\n",
      "(1, 'raju', 28, 'abc')\n",
      "(1, (2, 3, 4), [1, 'raju', 28, 'abc'])\n"
     ]
    }
   ],
   "source": [
    "#empty tuple\n",
    "t = ()\n",
    "\n",
    "#tuple having integers\n",
    "t = (1, 2, 3)\n",
    "print(t)\n",
    "\n",
    "#tuple with mixed datatypes\n",
    "t = (1, 'raju', 28, 'abc')\n",
    "print(t)\n",
    "\n",
    "#nested tuple\n",
    "t = (1, (2, 3, 4), [1, 'raju', 28, 'abc'])\n",
    "print(t)"
   ]
  },
  {
   "cell_type": "code",
   "execution_count": null,
   "metadata": {
    "id": "JCh2RC-OdWEm",
    "outputId": "9571684b-87a7-4007-f7df-bc6b1740ad68"
   },
   "outputs": [
    {
     "data": {
      "text/plain": [
       "str"
      ]
     },
     "execution_count": 3,
     "metadata": {},
     "output_type": "execute_result"
    }
   ],
   "source": [
    "#only parenthesis is not enough\n",
    "t = ('satish')\n",
    "type(t)"
   ]
  },
  {
   "cell_type": "code",
   "execution_count": null,
   "metadata": {
    "id": "3UdOxxM7dWEn",
    "outputId": "04cea2f0-a047-42ac-afc1-77d3a0c3dd4e"
   },
   "outputs": [
    {
     "data": {
      "text/plain": [
       "tuple"
      ]
     },
     "execution_count": 4,
     "metadata": {},
     "output_type": "execute_result"
    }
   ],
   "source": [
    "#need a comma at the end\n",
    "t = ('satish',)\n",
    "type(t)"
   ]
  },
  {
   "cell_type": "code",
   "execution_count": null,
   "metadata": {
    "id": "RUjWiTcWdWEn",
    "outputId": "3e04e61a-9265-487b-d28f-718a9496f1ea"
   },
   "outputs": [
    {
     "name": "stdout",
     "output_type": "stream",
     "text": [
      "<class 'tuple'>\n",
      "('satish',)\n"
     ]
    }
   ],
   "source": [
    "#parenthesis is optional\n",
    "t = \"satish\", \n",
    "print(type(t))\n",
    "\n",
    "print(t)"
   ]
  },
  {
   "cell_type": "markdown",
   "metadata": {
    "id": "p2E8Ty2MdWEo"
   },
   "source": [
    "# Accessing Elements in Tuple"
   ]
  },
  {
   "cell_type": "code",
   "execution_count": null,
   "metadata": {
    "id": "ILop4EegdWEp",
    "outputId": "ed0273a9-c1ea-4cbd-c695-4d5c26d6bbc1"
   },
   "outputs": [
    {
     "name": "stdout",
     "output_type": "stream",
     "text": [
      "murali\n"
     ]
    }
   ],
   "source": [
    "t = ('satish', 'murali', 'naveen', 'srinu', 'brahma')\n",
    "\n",
    "print(t[1])"
   ]
  },
  {
   "cell_type": "code",
   "execution_count": null,
   "metadata": {
    "id": "-ujFmMT7dWEq",
    "outputId": "d65bf895-e4ef-42a5-cd8d-ab136ebe259e"
   },
   "outputs": [
    {
     "name": "stdout",
     "output_type": "stream",
     "text": [
      "brahma\n"
     ]
    }
   ],
   "source": [
    "#negative index\n",
    "print(t[-1]) #print last element in a tuple"
   ]
  },
  {
   "cell_type": "code",
   "execution_count": null,
   "metadata": {
    "id": "hF6B_Si6dWEq",
    "outputId": "68a8f81c-d733-440f-ff87-b27a6eafe7f3"
   },
   "outputs": [
    {
     "name": "stdout",
     "output_type": "stream",
     "text": [
      "('satish', 'naveen', 'srinu')\n"
     ]
    }
   ],
   "source": [
    "#nested tuple\n",
    "t = ('ABC', ('satish', 'naveen', 'srinu'))\n",
    "\n",
    "print(t[1])"
   ]
  },
  {
   "cell_type": "code",
   "execution_count": null,
   "metadata": {
    "id": "ZUX4PXKgdWEq",
    "outputId": "84afc287-cbc3-4a1c-95f7-b7ede8423906"
   },
   "outputs": [
    {
     "name": "stdout",
     "output_type": "stream",
     "text": [
      "srinu\n"
     ]
    }
   ],
   "source": [
    "print(t[1][2])"
   ]
  },
  {
   "cell_type": "code",
   "execution_count": null,
   "metadata": {
    "id": "LypAlbLadWEr",
    "outputId": "87efde51-ca6f-4a8f-e888-ab49660ea930"
   },
   "outputs": [
    {
     "name": "stdout",
     "output_type": "stream",
     "text": [
      "(2, 3, 4)\n",
      "(1, 2, 3, 4)\n",
      "(1, 2, 3, 4, 5, 6)\n"
     ]
    }
   ],
   "source": [
    "#Slicing\n",
    "t = (1, 2, 3, 4, 5, 6)\n",
    "\n",
    "print(t[1:4])\n",
    "\n",
    "#print elements from starting to 2nd last elements\n",
    "print(t[:-2])\n",
    "\n",
    "#print elements from starting to end\n",
    "print(t[:])"
   ]
  },
  {
   "cell_type": "markdown",
   "metadata": {
    "id": "OX_ySxjedWEr"
   },
   "source": [
    "# Changing a Tuple"
   ]
  },
  {
   "cell_type": "markdown",
   "metadata": {
    "id": "SixsIu1DdWEs"
   },
   "source": [
    "#unlike lists, tuples are immutable\n",
    "#This means that elements of a tuple cannot be changed once it has been assigned. But, if the element is itself a mutable datatype like list, its nested items can be changed."
   ]
  },
  {
   "cell_type": "code",
   "execution_count": null,
   "metadata": {
    "id": "K8YqH0oNdWEs",
    "outputId": "b3a7ebe0-db35-44cb-834f-e70e8c39eaaa"
   },
   "outputs": [
    {
     "ename": "TypeError",
     "evalue": "'tuple' object does not support item assignment",
     "output_type": "error",
     "traceback": [
      "\u001b[0;31m---------------------------------------------------------------------------\u001b[0m",
      "\u001b[0;31mTypeError\u001b[0m                                 Traceback (most recent call last)",
      "\u001b[0;32m<ipython-input-3-9f4cbf6ee0de>\u001b[0m in \u001b[0;36m<module>\u001b[0;34m()\u001b[0m\n\u001b[1;32m      2\u001b[0m \u001b[0mt\u001b[0m \u001b[0;34m=\u001b[0m \u001b[0;34m(\u001b[0m\u001b[0;36m1\u001b[0m\u001b[0;34m,\u001b[0m \u001b[0;36m2\u001b[0m\u001b[0;34m,\u001b[0m \u001b[0;36m3\u001b[0m\u001b[0;34m,\u001b[0m \u001b[0;36m4\u001b[0m\u001b[0;34m,\u001b[0m \u001b[0;34m[\u001b[0m\u001b[0;36m5\u001b[0m\u001b[0;34m,\u001b[0m \u001b[0;36m6\u001b[0m\u001b[0;34m,\u001b[0m \u001b[0;36m7\u001b[0m\u001b[0;34m]\u001b[0m\u001b[0;34m)\u001b[0m\u001b[0;34m\u001b[0m\u001b[0m\n\u001b[1;32m      3\u001b[0m \u001b[0;34m\u001b[0m\u001b[0m\n\u001b[0;32m----> 4\u001b[0;31m \u001b[0mt\u001b[0m\u001b[0;34m[\u001b[0m\u001b[0;36m2\u001b[0m\u001b[0;34m]\u001b[0m \u001b[0;34m=\u001b[0m \u001b[0;34m'x'\u001b[0m \u001b[0;31m#will get TypeError\u001b[0m\u001b[0;34m\u001b[0m\u001b[0m\n\u001b[0m",
      "\u001b[0;31mTypeError\u001b[0m: 'tuple' object does not support item assignment"
     ]
    }
   ],
   "source": [
    "#creating tuple\n",
    "t = (1, 2, 3, 4, [5, 6, 7])\n",
    "\n",
    "t[2] = 'x' #will get TypeError"
   ]
  },
  {
   "cell_type": "code",
   "execution_count": null,
   "metadata": {
    "id": "ZcFsyJRwdWEu",
    "outputId": "5c08723f-c296-4e28-8b52-6703c316acc4"
   },
   "outputs": [
    {
     "name": "stdout",
     "output_type": "stream",
     "text": [
      "(1, 2, 3, 4, [5, 'satish', 7])\n"
     ]
    }
   ],
   "source": [
    "t[4][1] = 'satish'\n",
    "print(t)"
   ]
  },
  {
   "cell_type": "code",
   "execution_count": null,
   "metadata": {
    "id": "lNFzPxa1dWEu",
    "outputId": "2703df72-d613-4f11-8179-a577a93eba44"
   },
   "outputs": [
    {
     "name": "stdout",
     "output_type": "stream",
     "text": [
      "(1, 2, 3, 4, 5, 6)\n"
     ]
    }
   ],
   "source": [
    "#concatinating tuples\n",
    "\n",
    "t = (1, 2, 3) + (4, 5, 6)\n",
    "print(t)"
   ]
  },
  {
   "cell_type": "code",
   "execution_count": null,
   "metadata": {
    "id": "4U2iFiwwdWEv",
    "outputId": "534a1bc2-ead4-43bd-a776-1476d11371c7"
   },
   "outputs": [
    {
     "name": "stdout",
     "output_type": "stream",
     "text": [
      "('satish', 'satish', 'satish', 'satish')\n"
     ]
    }
   ],
   "source": [
    "#repeat the elements in a tuple for a given number of times using the * operator.\n",
    "t = (('satish', ) * 4)\n",
    "print(t)"
   ]
  },
  {
   "cell_type": "markdown",
   "metadata": {
    "id": "KT5THTnzdWEv"
   },
   "source": [
    "# Tuple Deletion"
   ]
  },
  {
   "cell_type": "code",
   "execution_count": null,
   "metadata": {
    "collapsed": true,
    "id": "akz82FfJdWEv"
   },
   "outputs": [],
   "source": [
    "#we cannot change the elements in a tuple. \n",
    "# That also means we cannot delete or remove items from a tuple.\n",
    "\n",
    "#delete entire tuple using del keyword\n",
    "t = (1, 2, 3, 4, 5, 6)\n",
    "\n",
    "#delete entire tuple\n",
    "del t\n",
    "\n"
   ]
  },
  {
   "cell_type": "markdown",
   "metadata": {
    "id": "GKKTGS2ddWEw"
   },
   "source": [
    "# Tuple Count"
   ]
  },
  {
   "cell_type": "code",
   "execution_count": null,
   "metadata": {
    "id": "zHGzi3HPdWEw",
    "outputId": "e0e47978-88f7-4b77-d2ef-9eb25791adfb"
   },
   "outputs": [
    {
     "data": {
      "text/plain": [
       "3"
      ]
     },
     "execution_count": 19,
     "metadata": {},
     "output_type": "execute_result"
    }
   ],
   "source": [
    "t = (1, 2, 3, 1, 3, 3, 4, 1)\n",
    "\n",
    "#get the frequency of particular element appears in a tuple\n",
    "t.count(1)"
   ]
  },
  {
   "cell_type": "markdown",
   "metadata": {
    "id": "BMWBbyVMdWEw"
   },
   "source": [
    "# Tuple Index"
   ]
  },
  {
   "cell_type": "code",
   "execution_count": null,
   "metadata": {
    "id": "Pg-zunDKdWEw",
    "outputId": "68939603-8192-48fb-94b3-b348d69b4269"
   },
   "outputs": [
    {
     "name": "stdout",
     "output_type": "stream",
     "text": [
      "2\n"
     ]
    }
   ],
   "source": [
    "t = (1, 2, 3, 1, 3, 3, 4, 1)\n",
    "\n",
    "print(t.index(3)) #return index of the first element is equal to 3\n",
    "\n",
    "#print index of the 1\n",
    "\n"
   ]
  },
  {
   "cell_type": "markdown",
   "metadata": {
    "id": "0BfgSsfbdWEx"
   },
   "source": [
    "# Tuple Memebership "
   ]
  },
  {
   "cell_type": "code",
   "execution_count": null,
   "metadata": {
    "id": "OxOH7SmodWEx",
    "outputId": "6713ecb5-1192-4bec-8790-06b5dd1278bf"
   },
   "outputs": [
    {
     "name": "stdout",
     "output_type": "stream",
     "text": [
      "True\n"
     ]
    }
   ],
   "source": [
    "#test if an item exists in a tuple or not, using the keyword in.\n",
    "t = (1, 2, 3, 4, 5, 6)\n",
    "\n",
    "print(1 in t)"
   ]
  },
  {
   "cell_type": "code",
   "execution_count": null,
   "metadata": {
    "id": "tCPgQbHrdWEx",
    "outputId": "d4916517-9ebe-4b8f-b9f9-378b66d5699f"
   },
   "outputs": [
    {
     "name": "stdout",
     "output_type": "stream",
     "text": [
      "False\n"
     ]
    }
   ],
   "source": [
    "print(7 in t)"
   ]
  },
  {
   "cell_type": "markdown",
   "metadata": {
    "id": "VwE1ioJudWEx"
   },
   "source": [
    "# Built in Functions"
   ]
  },
  {
   "cell_type": "markdown",
   "metadata": {
    "id": "lFSwhR3TdWEx"
   },
   "source": [
    "# Tuple Length"
   ]
  },
  {
   "cell_type": "code",
   "execution_count": null,
   "metadata": {
    "id": "513WmivcdWEx",
    "outputId": "9db3d49c-dfd8-44da-9081-8ab6845ae55a"
   },
   "outputs": [
    {
     "name": "stdout",
     "output_type": "stream",
     "text": [
      "6\n"
     ]
    }
   ],
   "source": [
    "t = (1, 2, 3, 4, 5, 6)\n",
    "print(len(t))"
   ]
  },
  {
   "cell_type": "markdown",
   "metadata": {
    "id": "M2wb0HtXdWEy"
   },
   "source": [
    "# Tuple Sort"
   ]
  },
  {
   "cell_type": "code",
   "execution_count": null,
   "metadata": {
    "id": "h824nz12dWEy",
    "outputId": "1c8fda37-7559-426a-9d82-643cdce34f3a"
   },
   "outputs": [
    {
     "name": "stdout",
     "output_type": "stream",
     "text": [
      "[1, 2, 3, 4, 5]\n"
     ]
    }
   ],
   "source": [
    "t = (4, 5, 1, 2, 3)\n",
    "\n",
    "new_t = sorted(t)\n",
    "print(new_t) #Take elements in the tuple and return a new sorted list \n",
    "             #(does not sort the tuple itself)."
   ]
  },
  {
   "cell_type": "code",
   "execution_count": null,
   "metadata": {
    "id": "poubXAsHdWEy",
    "outputId": "ddf51b23-4311-4d64-fe40-ffdebc4f2442"
   },
   "outputs": [
    {
     "name": "stdout",
     "output_type": "stream",
     "text": [
      "9\n"
     ]
    }
   ],
   "source": [
    "#get the largest element in a tuple\n",
    "t = (2, 5, 1, 6, 9)\n",
    "\n",
    "print(max(t))"
   ]
  },
  {
   "cell_type": "code",
   "execution_count": null,
   "metadata": {
    "id": "_JkJ8RMWdWEy",
    "outputId": "9d1e4c9f-296c-4336-b90b-418eb28d7aa0"
   },
   "outputs": [
    {
     "name": "stdout",
     "output_type": "stream",
     "text": [
      "1\n"
     ]
    }
   ],
   "source": [
    "#get the smallest element in a tuple\n",
    "print(min(t))"
   ]
  },
  {
   "cell_type": "code",
   "execution_count": null,
   "metadata": {
    "id": "2n2Dpu6KdWEy",
    "outputId": "264a753b-5a0d-4540-a106-30875c5244b2"
   },
   "outputs": [
    {
     "name": "stdout",
     "output_type": "stream",
     "text": [
      "23\n"
     ]
    }
   ],
   "source": [
    "#get sum of elments in the tuple\n",
    "print(sum(t))"
   ]
  }
 ],
 "metadata": {
  "colab": {
   "name": "2.2#2.3.ipynb",
   "provenance": []
  },
  "kernelspec": {
   "display_name": "Python 3",
   "language": "python",
   "name": "python3"
  },
  "language_info": {
   "codemirror_mode": {
    "name": "ipython",
    "version": 3
   },
   "file_extension": ".py",
   "mimetype": "text/x-python",
   "name": "python",
   "nbconvert_exporter": "python",
   "pygments_lexer": "ipython3",
   "version": "3.6.8"
  }
 },
 "nbformat": 4,
 "nbformat_minor": 1
}
