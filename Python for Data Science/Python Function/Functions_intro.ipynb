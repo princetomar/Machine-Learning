{
 "cells": [
  {
   "cell_type": "code",
   "execution_count": 6,
   "id": "d566be5d",
   "metadata": {},
   "outputs": [
    {
     "name": "stdout",
     "output_type": "stream",
     "text": [
      "0\n",
      "1\n",
      "2\n",
      "3\n",
      "4\n",
      "5\n",
      "6\n",
      "7\n",
      "8\n",
      "9\n",
      "\n",
      "    This function shows the working of loop and _doc_ statement\n",
      "    \n"
     ]
    }
   ],
   "source": [
    "def fun(name):\n",
    "    '''\n",
    "    This function shows the working of loop and _doc_ statement\n",
    "    '''\n",
    "    for i in range(10):\n",
    "        print(i)\n",
    "    return name\n",
    "\n",
    "\n",
    "print(fun(\"prince\"))\n",
    "print(fun.__doc__)"
   ]
  },
  {
   "cell_type": "code",
   "execution_count": 8,
   "id": "b2e0cdb3",
   "metadata": {},
   "outputs": [
    {
     "name": "stdout",
     "output_type": "stream",
     "text": [
      "15\n"
     ]
    }
   ],
   "source": [
    "# Function to find the sum of all elements in a list\n",
    "\n",
    "def sumList(lst):\n",
    "    sum = 0\n",
    "    for i in lst:\n",
    "        sum += i\n",
    "    return sum\n",
    "\n",
    "lst = [1,2,3,4,5]\n",
    "print(sumList(lst))"
   ]
  },
  {
   "cell_type": "markdown",
   "id": "d51f212b",
   "metadata": {},
   "source": [
    "## Python program to find HCF of 2 numbers\n"
   ]
  },
  {
   "cell_type": "code",
   "execution_count": 14,
   "id": "66d428f4",
   "metadata": {},
   "outputs": [
    {
     "name": "stdout",
     "output_type": "stream",
     "text": [
      "Computing HCF of two numbers : \n",
      "2\n"
     ]
    }
   ],
   "source": [
    "def find_hcf(a,b):\n",
    "    '''Computing HCF of two numbers : '''\n",
    "    smaller = b if a>b else a\n",
    "    \n",
    "    hcf = 1\n",
    "    for i in range(1, smaller+1):\n",
    "        if(a % i == 0) and (b %i == 0):\n",
    "            hcf = i\n",
    "    return hcf\n",
    "\n",
    "num1 = 98\n",
    "num2 = 78\n",
    "\n",
    "print(find_hcf.__doc__)\n",
    "print(find_hcf(num1,num2))"
   ]
  },
  {
   "cell_type": "code",
   "execution_count": null,
   "id": "2737daa4",
   "metadata": {},
   "outputs": [],
   "source": []
  },
  {
   "cell_type": "code",
   "execution_count": null,
   "id": "048a508f",
   "metadata": {},
   "outputs": [],
   "source": []
  }
 ],
 "metadata": {
  "kernelspec": {
   "display_name": "Python 3",
   "language": "python",
   "name": "python3"
  },
  "language_info": {
   "codemirror_mode": {
    "name": "ipython",
    "version": 3
   },
   "file_extension": ".py",
   "mimetype": "text/x-python",
   "name": "python",
   "nbconvert_exporter": "python",
   "pygments_lexer": "ipython3",
   "version": "3.6.8"
  }
 },
 "nbformat": 4,
 "nbformat_minor": 5
}
