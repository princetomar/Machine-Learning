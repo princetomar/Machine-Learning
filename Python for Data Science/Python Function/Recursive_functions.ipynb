{
 "cells": [
  {
   "cell_type": "markdown",
   "id": "04a7f5e8",
   "metadata": {},
   "source": [
    "# Recursion"
   ]
  },
  {
   "cell_type": "markdown",
   "id": "3bedc18f",
   "metadata": {},
   "source": [
    "We know that in Python, a function can call other functions. It is even possible for the function to\n",
    "call itself. These type of constructs are known as Recursive Functions."
   ]
  },
  {
   "cell_type": "code",
   "execution_count": 3,
   "id": "284e0325",
   "metadata": {},
   "outputs": [
    {
     "name": "stdout",
     "output_type": "stream",
     "text": [
      "Factorial of 5 is : 120\n"
     ]
    }
   ],
   "source": [
    "def fact(n):\n",
    "    return 1 if n == 1 else(n * fact(n-1))\n",
    "\n",
    "print(\"Factorial of 5 is : {0}\".format(fact(5)))"
   ]
  },
  {
   "cell_type": "markdown",
   "id": "ec1fac5c",
   "metadata": {},
   "source": [
    "# Advantages\n",
    "\n",
    "1. Recursive function make the code look clean and elegant.\n",
    "2. A complex task can be broken down into simpler sub-problems using recursion.\n",
    "3. Sequence generation is easier with recursion than using some nested iteration."
   ]
  },
  {
   "cell_type": "markdown",
   "id": "9061e3db",
   "metadata": {},
   "source": [
    "## Disadvantages\n",
    "\n",
    "1. Sometimes the logic behind the recursion is hard to follow through.\n",
    "2. Recursive calls are expensive (inefficient) as they take up a lot of memory and time.\n",
    "3. Recursive functions are hard to debug."
   ]
  },
  {
   "cell_type": "markdown",
   "id": "7a46b6b0",
   "metadata": {},
   "source": [
    "# Python Program to disp;au the fobonacci sequence up to the n-th term using revirsive function "
   ]
  },
  {
   "cell_type": "code",
   "execution_count": 14,
   "id": "e63834eb",
   "metadata": {},
   "outputs": [
    {
     "name": "stdout",
     "output_type": "stream",
     "text": [
      "enter a number to find fibonacci number : 0\n",
      "0th fibonacci series number is 0\n"
     ]
    }
   ],
   "source": [
    "def fib(n):\n",
    "    return n if n<=1 else fib(n-1)+fib(n-2)\n",
    "\n",
    "n = int(input(\"enter a number to find fibonacci number : \"))\n",
    "print(\"{0}th fibonacci series number is {1}\".format(n,fib(n)))"
   ]
  },
  {
   "cell_type": "code",
   "execution_count": null,
   "id": "3db9505a",
   "metadata": {},
   "outputs": [],
   "source": []
  },
  {
   "cell_type": "code",
   "execution_count": null,
   "id": "0b2c4ac6",
   "metadata": {},
   "outputs": [],
   "source": []
  }
 ],
 "metadata": {
  "kernelspec": {
   "display_name": "Python 3",
   "language": "python",
   "name": "python3"
  },
  "language_info": {
   "codemirror_mode": {
    "name": "ipython",
    "version": 3
   },
   "file_extension": ".py",
   "mimetype": "text/x-python",
   "name": "python",
   "nbconvert_exporter": "python",
   "pygments_lexer": "ipython3",
   "version": "3.6.8"
  }
 },
 "nbformat": 4,
 "nbformat_minor": 5
}
