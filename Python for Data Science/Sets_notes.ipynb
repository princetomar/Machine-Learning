{
  "cells": [
    {
      "cell_type": "markdown",
      "metadata": {
        "id": "Zxg8dXugTWd-"
      },
      "source": [
        "# Sets"
      ]
    },
    {
      "cell_type": "markdown",
      "metadata": {
        "id": "plfGzvESTWeB"
      },
      "source": [
        "-> A set is an unordered collection of items. Every element is unique (no duplicates).\n",
        "\n",
        "-> The set itself is mutable. We can add or remove items from it.\n",
        "\n",
        "-> Sets can be used to perform mathematical set operations like union, intersection, symmetric difference etc."
      ]
    },
    {
      "cell_type": "markdown",
      "metadata": {
        "id": "3M36ZU5nTWeC"
      },
      "source": [
        "# Set Creation"
      ]
    },
    {
      "cell_type": "code",
      "execution_count": null,
      "metadata": {
        "id": "yUnNhVexTWeC",
        "outputId": "7b0491d3-51e2-4252-df68-901c52791e70"
      },
      "outputs": [
        {
          "name": "stdout",
          "output_type": "stream",
          "text": [
            "set([1, 2, 3])\n",
            "<type 'set'>\n"
          ]
        }
      ],
      "source": [
        "#set of integers\n",
        "s = {1, 2, 3}\n",
        "print(s)\n",
        "\n",
        "#print type of s \n",
        "print(type(s))"
      ]
    },
    {
      "cell_type": "code",
      "execution_count": null,
      "metadata": {
        "id": "wyUH5tOhTWeE",
        "outputId": "07e08045-1337-4261-9e1e-f0cc567da280"
      },
      "outputs": [
        {
          "name": "stdout",
          "output_type": "stream",
          "text": [
            "{1, 2, 3, 4}\n"
          ]
        }
      ],
      "source": [
        "#set doesn't allow duplicates. They store only one instance.\n",
        "s = {1, 2, 3, 1, 4}\n",
        "print(s)"
      ]
    },
    {
      "cell_type": "code",
      "execution_count": null,
      "metadata": {
        "id": "_gWwYsmtTWeF",
        "outputId": "9a3a3ae3-d513-4f80-8418-968cc4f7266b"
      },
      "outputs": [
        {
          "name": "stdout",
          "output_type": "stream",
          "text": [
            "{1, 2, 3}\n"
          ]
        }
      ],
      "source": [
        "#we can make set from a list\n",
        "s = set([1, 2, 3, 1])\n",
        "print(s)"
      ]
    },
    {
      "cell_type": "code",
      "execution_count": null,
      "metadata": {
        "id": "4gsIf2qhTWeF",
        "outputId": "36e3eab7-27a8-4491-b95f-08cfb2ee777f"
      },
      "outputs": [
        {
          "name": "stdout",
          "output_type": "stream",
          "text": [
            "<class 'set'>\n"
          ]
        }
      ],
      "source": [
        "#initialize a set  with set() method\n",
        "s = set()\n",
        "\n",
        "print(type(s))"
      ]
    },
    {
      "cell_type": "markdown",
      "metadata": {
        "id": "ynYIxDRdTWeG"
      },
      "source": [
        "# Add element to a Set"
      ]
    },
    {
      "cell_type": "code",
      "execution_count": null,
      "metadata": {
        "id": "15cHY79HTWeH",
        "outputId": "5a01b117-814c-4329-8594-a7c883c13eb8"
      },
      "outputs": [
        {
          "ename": "TypeError",
          "evalue": "'set' object does not support indexing",
          "output_type": "error",
          "traceback": [
            "\u001b[0;31m---------------------------------------------------------------------------\u001b[0m",
            "\u001b[0;31mTypeError\u001b[0m                                 Traceback (most recent call last)",
            "\u001b[0;32m<ipython-input-4-c52fc339e293>\u001b[0m in \u001b[0;36m<module>\u001b[0;34m()\u001b[0m\n\u001b[1;32m      4\u001b[0m \u001b[0;34m\u001b[0m\u001b[0m\n\u001b[1;32m      5\u001b[0m \u001b[0;31m#set object doesn't support indexing\u001b[0m\u001b[0;34m\u001b[0m\u001b[0;34m\u001b[0m\u001b[0m\n\u001b[0;32m----> 6\u001b[0;31m \u001b[0mprint\u001b[0m\u001b[0;34m(\u001b[0m\u001b[0ms\u001b[0m\u001b[0;34m[\u001b[0m\u001b[0;36m1\u001b[0m\u001b[0;34m]\u001b[0m\u001b[0;34m)\u001b[0m \u001b[0;31m#will get TypeError\u001b[0m\u001b[0;34m\u001b[0m\u001b[0m\n\u001b[0m",
            "\u001b[0;31mTypeError\u001b[0m: 'set' object does not support indexing"
          ]
        }
      ],
      "source": [
        "#we can add single element using add() method and \n",
        "#add multiple elements using update() method\n",
        "s = {1, 3}\n",
        "\n",
        "#set object doesn't support indexing\n",
        "print(s[1]) #will get TypeError"
      ]
    },
    {
      "cell_type": "code",
      "execution_count": null,
      "metadata": {
        "id": "FtOYuZOZTWeI",
        "outputId": "85c1c76a-dd0d-4065-ed8c-d6f39193bf92"
      },
      "outputs": [
        {
          "name": "stdout",
          "output_type": "stream",
          "text": [
            "{1, 2, 3}\n"
          ]
        }
      ],
      "source": [
        "#add element\n",
        "s.add(2)\n",
        "print(s)"
      ]
    },
    {
      "cell_type": "code",
      "execution_count": null,
      "metadata": {
        "id": "XPJvldepTWeI",
        "outputId": "6ff5c818-5ff9-4f88-f4dc-4259545a3912"
      },
      "outputs": [
        {
          "name": "stdout",
          "output_type": "stream",
          "text": [
            "{1, 2, 3, 5, 6}\n"
          ]
        }
      ],
      "source": [
        "#add multiple elements\n",
        "s.update([5, 6, 1])\n",
        "print(s)"
      ]
    },
    {
      "cell_type": "code",
      "execution_count": null,
      "metadata": {
        "id": "-jdgwj7aTWeJ",
        "outputId": "64a22607-3b0a-44e3-a00a-20edc1d4dee5"
      },
      "outputs": [
        {
          "name": "stdout",
          "output_type": "stream",
          "text": [
            "{1, 2, 3, 5, 6, 8, 9, 10}\n"
          ]
        }
      ],
      "source": [
        "#add list and set\n",
        "s.update([8, 9], {10, 2, 3})\n",
        "print(s)"
      ]
    },
    {
      "cell_type": "markdown",
      "metadata": {
        "id": "1huKo6F2TWeJ"
      },
      "source": [
        "# Remove elements from a Set"
      ]
    },
    {
      "cell_type": "code",
      "execution_count": null,
      "metadata": {
        "id": "8urg6dkUTWeJ",
        "outputId": "8cbe67b1-e184-4588-9698-34efb524e144"
      },
      "outputs": [
        {
          "name": "stdout",
          "output_type": "stream",
          "text": [
            "{1, 2, 3, 4, 5}\n",
            "{1, 2, 3, 5}\n"
          ]
        }
      ],
      "source": [
        "#A particular item can be removed from set using methods, \n",
        "#discard() and remove().\n",
        "\n",
        "s = {1, 2, 3, 5, 4}\n",
        "print(s)\n",
        "\n",
        "s.discard(4)    #4 is removed from set s\n",
        "\n",
        "print(s)"
      ]
    },
    {
      "cell_type": "code",
      "execution_count": null,
      "metadata": {
        "id": "aZeMMIp-TWeK",
        "outputId": "c97e0750-5694-483f-f5e1-af20836f09f1"
      },
      "outputs": [
        {
          "name": "stdout",
          "output_type": "stream",
          "text": [
            "{1, 3, 5}\n"
          ]
        }
      ],
      "source": [
        "#remove an element \n",
        "s.remove(2)\n",
        "\n",
        "print(s)"
      ]
    },
    {
      "cell_type": "code",
      "execution_count": null,
      "metadata": {
        "id": "bkW8_O4KTWeK",
        "outputId": "5eee5574-7cb8-4785-d4fa-02949cae79b7"
      },
      "outputs": [
        {
          "ename": "KeyError",
          "evalue": "7",
          "output_type": "error",
          "traceback": [
            "\u001b[0;31m---------------------------------------------------------------------------\u001b[0m",
            "\u001b[0;31mKeyError\u001b[0m                                  Traceback (most recent call last)",
            "\u001b[0;32m<ipython-input-14-f37cc9806699>\u001b[0m in \u001b[0;36m<module>\u001b[0;34m()\u001b[0m\n\u001b[1;32m      1\u001b[0m \u001b[0;31m#remove an element not present in a set s\u001b[0m\u001b[0;34m\u001b[0m\u001b[0;34m\u001b[0m\u001b[0m\n\u001b[0;32m----> 2\u001b[0;31m \u001b[0ms\u001b[0m\u001b[0;34m.\u001b[0m\u001b[0mremove\u001b[0m\u001b[0;34m(\u001b[0m\u001b[0;36m7\u001b[0m\u001b[0;34m)\u001b[0m \u001b[0;31m# will get KeyError\u001b[0m\u001b[0;34m\u001b[0m\u001b[0m\n\u001b[0m",
            "\u001b[0;31mKeyError\u001b[0m: 7"
          ]
        }
      ],
      "source": [
        "#remove an element not present in a set s\n",
        "s.remove(7) # will get KeyError"
      ]
    },
    {
      "cell_type": "code",
      "execution_count": null,
      "metadata": {
        "id": "jKfP2oDTTWeL",
        "outputId": "991bb867-86d7-4848-ed9f-76187fa2b4e3"
      },
      "outputs": [
        {
          "name": "stdout",
          "output_type": "stream",
          "text": [
            "{1, 3, 5}\n"
          ]
        }
      ],
      "source": [
        "#discard an element not present in a set s\n",
        "s.discard(7)\n",
        "print(s)"
      ]
    },
    {
      "cell_type": "code",
      "execution_count": null,
      "metadata": {
        "id": "DIQRciQRTWeL",
        "outputId": "0a36b81d-e3b4-4ec3-f745-f56b0d85c16d"
      },
      "outputs": [
        {
          "name": "stdout",
          "output_type": "stream",
          "text": [
            "{2, 3, 4, 5}\n"
          ]
        }
      ],
      "source": [
        "#we can remove item using pop() method\n",
        "\n",
        "s = {1, 2, 3, 5, 4}\n",
        "\n",
        "s.pop() #remove random element\n",
        "\n",
        "print(s)"
      ]
    },
    {
      "cell_type": "code",
      "execution_count": null,
      "metadata": {
        "id": "nwN7clqFTWeM",
        "outputId": "f03764a9-75bc-49db-e46a-cd25047ff72a"
      },
      "outputs": [
        {
          "name": "stdout",
          "output_type": "stream",
          "text": [
            "{3, 4, 5}\n"
          ]
        }
      ],
      "source": [
        "s.pop() \n",
        "print(s)"
      ]
    },
    {
      "cell_type": "code",
      "execution_count": null,
      "metadata": {
        "id": "1jk3XFpvTWeM",
        "outputId": "b1ccb179-9bca-45f7-d938-e439c2cee953"
      },
      "outputs": [
        {
          "name": "stdout",
          "output_type": "stream",
          "text": [
            "set()\n"
          ]
        }
      ],
      "source": [
        "s = {1, 5, 2, 3, 6}\n",
        "\n",
        "s.clear()   #remove all items in set using clear() method\n",
        "\n",
        "print(s)"
      ]
    },
    {
      "cell_type": "markdown",
      "metadata": {
        "id": "wnC-6v6xTWeM"
      },
      "source": [
        "# Python Set Operations"
      ]
    },
    {
      "cell_type": "code",
      "execution_count": null,
      "metadata": {
        "id": "fF6qTMZVTWeM",
        "outputId": "24b2355b-0469-4a70-b146-aa5748432992"
      },
      "outputs": [
        {
          "name": "stdout",
          "output_type": "stream",
          "text": [
            "{1, 2, 3, 4, 5, 6, 7}\n"
          ]
        }
      ],
      "source": [
        "set1 = {1, 2, 3, 4, 5}\n",
        "set2 = {3, 4, 5, 6, 7}\n",
        "\n",
        "#union of 2 sets using | operator\n",
        "\n",
        "print(set1 | set2)"
      ]
    },
    {
      "cell_type": "code",
      "execution_count": null,
      "metadata": {
        "id": "t5Qwj7LpTWeN",
        "outputId": "aa9d388e-af0c-40a6-b2d5-b88fcf646645"
      },
      "outputs": [
        {
          "name": "stdout",
          "output_type": "stream",
          "text": [
            "{1, 2, 3, 4, 5, 6, 7}\n"
          ]
        }
      ],
      "source": [
        "#another way of getting union of 2 sets\n",
        "print(set1.union(set2))"
      ]
    },
    {
      "cell_type": "code",
      "execution_count": null,
      "metadata": {
        "id": "pHK6Kz3sTWeN",
        "outputId": "e856f801-f883-4f0b-ba43-eb7d178176db"
      },
      "outputs": [
        {
          "name": "stdout",
          "output_type": "stream",
          "text": [
            "{3, 4, 5}\n"
          ]
        }
      ],
      "source": [
        "#intersection of 2 sets using & operator\n",
        "print(set1 & set2)"
      ]
    },
    {
      "cell_type": "code",
      "execution_count": null,
      "metadata": {
        "id": "vscyIxhRTWeN",
        "outputId": "23f895b9-100e-4cbc-ac18-7c9d18594132"
      },
      "outputs": [
        {
          "name": "stdout",
          "output_type": "stream",
          "text": [
            "{3, 4, 5}\n"
          ]
        }
      ],
      "source": [
        "#use intersection function \n",
        "print(set1.intersection(set2))"
      ]
    },
    {
      "cell_type": "code",
      "execution_count": null,
      "metadata": {
        "id": "ZJohajjZTWeO",
        "outputId": "95a68ceb-df6d-4fe9-8c27-33001ec7924d"
      },
      "outputs": [
        {
          "name": "stdout",
          "output_type": "stream",
          "text": [
            "{1, 2}\n"
          ]
        }
      ],
      "source": [
        "#set Difference: set of elements that are only in set1 but not in set2\n",
        "\n",
        "print(set1 - set2)"
      ]
    },
    {
      "cell_type": "code",
      "execution_count": null,
      "metadata": {
        "id": "5N3_gqntTWeO",
        "outputId": "316f4e6b-33cb-4be7-fe54-85c4a4e107dc"
      },
      "outputs": [
        {
          "name": "stdout",
          "output_type": "stream",
          "text": [
            "{1, 2}\n"
          ]
        }
      ],
      "source": [
        "#use differnce function \n",
        "print(set1.difference(set2))"
      ]
    },
    {
      "cell_type": "code",
      "execution_count": null,
      "metadata": {
        "id": "0S2frJMvTWeO",
        "outputId": "127655fc-acc2-43fa-f158-dbd7150833a8"
      },
      "outputs": [
        {
          "name": "stdout",
          "output_type": "stream",
          "text": [
            "{1, 2, 6, 7}\n"
          ]
        }
      ],
      "source": [
        "\"\"\"symmetric difference: set of elements in both set1 and set2 \n",
        "#except those that are common in both.\"\"\"\n",
        "\n",
        "#use ^ operator\n",
        "\n",
        "print(set1^set2)"
      ]
    },
    {
      "cell_type": "code",
      "execution_count": null,
      "metadata": {
        "id": "EognYz57TWeO",
        "outputId": "88a0b8b5-41a2-4b86-c5f6-c5207a5aca31"
      },
      "outputs": [
        {
          "name": "stdout",
          "output_type": "stream",
          "text": [
            "{1, 2, 6, 7}\n"
          ]
        }
      ],
      "source": [
        "#use symmetric_difference function\n",
        "print(set1.symmetric_difference(set2))"
      ]
    },
    {
      "cell_type": "code",
      "execution_count": null,
      "metadata": {
        "id": "UO_pHF0RTWeP",
        "outputId": "7843b0bc-ff31-41cc-d3ab-109b5d4f8d85"
      },
      "outputs": [
        {
          "name": "stdout",
          "output_type": "stream",
          "text": [
            "set 'x' is subset of 'y' ? False\n",
            "set 'y' is subset of 'x' ? True\n"
          ]
        }
      ],
      "source": [
        "#find issubset()\n",
        "x = {\"a\",\"b\",\"c\",\"d\",\"e\"}\n",
        "y = {\"c\",\"d\"}\n",
        "\n",
        "print(\"set 'x' is subset of 'y' ?\", x.issubset(y)) #check x is subset of y\n",
        "\n",
        "#check y is subset of x\n",
        "print(\"set 'y' is subset of 'x' ?\", y.issubset(x))"
      ]
    },
    {
      "cell_type": "markdown",
      "metadata": {
        "id": "Xjy2gXi1TWeP"
      },
      "source": [
        "# Frozen Sets"
      ]
    },
    {
      "cell_type": "markdown",
      "metadata": {
        "collapsed": true,
        "id": "912O-U4ETWeP"
      },
      "source": [
        "Frozen sets has the characteristics of sets, but we can't be changed once it's assigned. While tuple are immutable lists, frozen sets are immutable sets"
      ]
    },
    {
      "cell_type": "markdown",
      "metadata": {
        "id": "gXgHyl4cTWeP"
      },
      "source": [
        "Frozensets can be created using the function frozenset()"
      ]
    },
    {
      "cell_type": "markdown",
      "metadata": {
        "id": "xRP9WsNXTWeP"
      },
      "source": [
        "Sets being mutable are unhashable, so they can't be used as dictionary keys. On the other hand, frozensets are hashable and can be used as keys to a dictionary."
      ]
    },
    {
      "cell_type": "markdown",
      "metadata": {
        "id": "kzWpj0bkTWeQ"
      },
      "source": [
        "This datatype supports methods like copy(), difference(), intersection(), isdisjoint(), issubset(), issuperset(), symmetric_difference() and union(). Being immutable it does not have method that add or remove elements."
      ]
    },
    {
      "cell_type": "code",
      "execution_count": null,
      "metadata": {
        "id": "8xUCbNq_TWeQ",
        "outputId": "181ae589-68d5-48bd-ba7d-4033b8daa3c3"
      },
      "outputs": [
        {
          "ename": "AttributeError",
          "evalue": "'frozenset' object has no attribute 'add'",
          "output_type": "error",
          "traceback": [
            "\u001b[0;31m---------------------------------------------------------------------------\u001b[0m",
            "\u001b[0;31mAttributeError\u001b[0m                            Traceback (most recent call last)",
            "\u001b[0;32m<ipython-input-28-8f5ea3d0c7e1>\u001b[0m in \u001b[0;36m<module>\u001b[0;34m()\u001b[0m\n\u001b[1;32m      3\u001b[0m \u001b[0;34m\u001b[0m\u001b[0m\n\u001b[1;32m      4\u001b[0m \u001b[0;31m#try to add element into set1 gives an error\u001b[0m\u001b[0;34m\u001b[0m\u001b[0;34m\u001b[0m\u001b[0m\n\u001b[0;32m----> 5\u001b[0;31m \u001b[0mset1\u001b[0m\u001b[0;34m.\u001b[0m\u001b[0madd\u001b[0m\u001b[0;34m(\u001b[0m\u001b[0;36m5\u001b[0m\u001b[0;34m)\u001b[0m\u001b[0;34m\u001b[0m\u001b[0m\n\u001b[0m",
            "\u001b[0;31mAttributeError\u001b[0m: 'frozenset' object has no attribute 'add'"
          ]
        }
      ],
      "source": [
        "set1 = frozenset([1, 2, 3, 4])\n",
        "set2 = frozenset([3, 4, 5, 6])\n",
        "\n",
        "#try to add element into set1 gives an error\n",
        "set1.add(5)"
      ]
    },
    {
      "cell_type": "code",
      "execution_count": null,
      "metadata": {
        "id": "A13oSezcTWeQ",
        "outputId": "290a079c-a576-4e29-becc-e9ce514d5c37"
      },
      "outputs": [
        {
          "ename": "TypeError",
          "evalue": "'frozenset' object does not support indexing",
          "output_type": "error",
          "traceback": [
            "\u001b[0;31m---------------------------------------------------------------------------\u001b[0m",
            "\u001b[0;31mTypeError\u001b[0m                                 Traceback (most recent call last)",
            "\u001b[0;32m<ipython-input-27-8fc108f08ec8>\u001b[0m in \u001b[0;36m<module>\u001b[0;34m()\u001b[0m\n\u001b[0;32m----> 1\u001b[0;31m \u001b[0mprint\u001b[0m\u001b[0;34m(\u001b[0m\u001b[0mset1\u001b[0m\u001b[0;34m[\u001b[0m\u001b[0;36m1\u001b[0m\u001b[0;34m]\u001b[0m\u001b[0;34m)\u001b[0m \u001b[0;31m# frozen set doesn't support indexing\u001b[0m\u001b[0;34m\u001b[0m\u001b[0m\n\u001b[0m",
            "\u001b[0;31mTypeError\u001b[0m: 'frozenset' object does not support indexing"
          ]
        }
      ],
      "source": [
        "print(set1[1]) # frozen set doesn't support indexing"
      ]
    },
    {
      "cell_type": "code",
      "execution_count": null,
      "metadata": {
        "id": "SLDOt_lxTWeQ",
        "outputId": "6dc71238-ecca-4ff7-f5fd-a44ab182eb44"
      },
      "outputs": [
        {
          "name": "stdout",
          "output_type": "stream",
          "text": [
            "frozenset({1, 2, 3, 4, 5, 6})\n"
          ]
        }
      ],
      "source": [
        "print(set1 | set2) #union of 2 sets"
      ]
    },
    {
      "cell_type": "code",
      "execution_count": null,
      "metadata": {
        "id": "XfisazL6TWeQ",
        "outputId": "a0aa777f-0c86-4fe2-c337-2fd5dc3ce76f"
      },
      "outputs": [
        {
          "name": "stdout",
          "output_type": "stream",
          "text": [
            "frozenset({3, 4})\n",
            "frozenset({3, 4})\n"
          ]
        }
      ],
      "source": [
        "#intersection of two sets\n",
        "print(set1 & set2)\n",
        "\n",
        "#or \n",
        "print(set1.intersection(set2))"
      ]
    },
    {
      "cell_type": "code",
      "execution_count": null,
      "metadata": {
        "id": "9MteFVUDTWeR",
        "outputId": "3924b65c-48ed-42b5-a507-164cb5050b6c"
      },
      "outputs": [
        {
          "name": "stdout",
          "output_type": "stream",
          "text": [
            "frozenset({1, 2, 5, 6})\n",
            "frozenset({1, 2, 5, 6})\n"
          ]
        }
      ],
      "source": [
        "#symmetric difference\n",
        "print(set1 ^ set2)\n",
        "\n",
        "#or\n",
        "print(set1.symmetric_difference(set2))"
      ]
    },
    {
      "cell_type": "code",
      "execution_count": null,
      "metadata": {
        "collapsed": true,
        "id": "bfvlIhqrTWeR"
      },
      "outputs": [],
      "source": [
        ""
      ]
    },
    {
      "cell_type": "code",
      "execution_count": null,
      "metadata": {
        "collapsed": true,
        "id": "CMZfycgmTWeR"
      },
      "outputs": [],
      "source": [
        ""
      ]
    }
  ],
  "metadata": {
    "kernelspec": {
      "display_name": "Python 3",
      "language": "python",
      "name": "python3"
    },
    "language_info": {
      "codemirror_mode": {
        "name": "ipython",
        "version": 3
      },
      "file_extension": ".py",
      "mimetype": "text/x-python",
      "name": "python",
      "nbconvert_exporter": "python",
      "pygments_lexer": "ipython3",
      "version": "3.6.1"
    },
    "colab": {
      "name": "2.4.ipynb",
      "provenance": []
    }
  },
  "nbformat": 4,
  "nbformat_minor": 0
}